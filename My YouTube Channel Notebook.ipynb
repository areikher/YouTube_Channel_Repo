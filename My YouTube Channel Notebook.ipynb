{
 "cells": [
  {
   "cell_type": "markdown",
   "metadata": {},
   "source": [
    "## Goal\n",
    "The aim of this project is to develop a predictive model that estimates performance metrics—such as likes, dislikes, views, and other engagement measures—for my YouTube content based solely on the video title. My channel is still in its early stages, with fewer than 100 YouTube Shorts published over the past year. I do not expect high accuracy or perfect results at this stage; rather, my objective is to build a simple model and chat-based interface where I can input a potential video title and receive an estimated performance forecast. Over time, as my channel grows and I update the dataset, I anticipate that the model’s predictions will become increasingly accurate."
   ]
  },
  {
   "cell_type": "markdown",
   "metadata": {},
   "source": [
    "### Cleaning and Importing the Dataset"
   ]
  },
  {
   "cell_type": "code",
   "execution_count": 1,
   "metadata": {},
   "outputs": [],
   "source": [
    "#libraries\n",
    "import pandas as pd\n",
    "import matplotlib.pyplot as plt\n",
    "import seaborn as sns\n",
    "import sklearn\n",
    "import warnings\n",
    "\n",
    "from sklearn.preprocessing import LabelEncoder\n",
    "from sklearn.impute import KNNImputer\n",
    "from sklearn.model_selection import train_test_split\n",
    "from sklearn.preprocessing import StandardScaler\n",
    "from sklearn.metrics import f1_score\n",
    "from sklearn.ensemble import RandomForestRegressor\n",
    "from sklearn.model_selection import cross_val_score"
   ]
  },
  {
   "cell_type": "code",
   "execution_count": 2,
   "metadata": {},
   "outputs": [],
   "source": [
    "#This dataset was pulled from my YouTube channel analytics page\n",
    "df = pd.read_csv('Table data.csv')"
   ]
  },
  {
   "cell_type": "code",
   "execution_count": 3,
   "metadata": {},
   "outputs": [],
   "source": [
    "#I have videos on my channel that are not YouTube shorts and I do not want to include them in my analysis\n",
    "#Therefore, they are outliers and need to be removed\n",
    "df = df.loc[df['Duration'] < 100]"
   ]
  },
  {
   "cell_type": "code",
   "execution_count": 4,
   "metadata": {},
   "outputs": [],
   "source": [
    "#These were columns that either had only NA values or irrelevant data\n",
    "df.drop(['Content','Regular viewers',\n",
    "       'Casual viewers', 'Average views per viewer', 'New viewers',\n",
    "       'Unique viewers'], axis=1, inplace=True)"
   ]
  },
  {
   "cell_type": "code",
   "execution_count": 5,
   "metadata": {},
   "outputs": [],
   "source": [
    "#converting the Average view duration column from str to int to be usable in the model\n",
    "sec = []\n",
    "for i in range(len(df['Average view duration'])):\n",
    "    x = df['Average view duration'].iloc[i][-2:]\n",
    "    x = int(x)\n",
    "    sec.append(x)\n",
    "    \n",
    "df['Average Seconds Viewed'] = sec"
   ]
  },
  {
   "cell_type": "code",
   "execution_count": 6,
   "metadata": {},
   "outputs": [],
   "source": [
    "df['Date_Column'] = pd.to_datetime(df['Video publish time'])"
   ]
  },
  {
   "cell_type": "code",
   "execution_count": 7,
   "metadata": {},
   "outputs": [],
   "source": [
    "df['DayOfWeek_Num'] = df['Date_Column'].dt.dayofweek"
   ]
  },
  {
   "cell_type": "code",
   "execution_count": 8,
   "metadata": {},
   "outputs": [],
   "source": [
    "df.drop(['Video publish time', 'Average view duration', 'Date_Column'], axis=1, inplace=True)"
   ]
  },
  {
   "cell_type": "code",
   "execution_count": 9,
   "metadata": {},
   "outputs": [
    {
     "data": {
      "text/html": [
       "<div>\n",
       "<style scoped>\n",
       "    .dataframe tbody tr th:only-of-type {\n",
       "        vertical-align: middle;\n",
       "    }\n",
       "\n",
       "    .dataframe tbody tr th {\n",
       "        vertical-align: top;\n",
       "    }\n",
       "\n",
       "    .dataframe thead th {\n",
       "        text-align: right;\n",
       "    }\n",
       "</style>\n",
       "<table border=\"1\" class=\"dataframe\">\n",
       "  <thead>\n",
       "    <tr style=\"text-align: right;\">\n",
       "      <th></th>\n",
       "      <th>Video title</th>\n",
       "      <th>Duration</th>\n",
       "      <th>Likes</th>\n",
       "      <th>Dislikes</th>\n",
       "      <th>Shares</th>\n",
       "      <th>YouTube Premium views</th>\n",
       "      <th>Stayed to watch (%)</th>\n",
       "      <th>Engaged views</th>\n",
       "      <th>Views</th>\n",
       "      <th>Watch time (hours)</th>\n",
       "      <th>Subscribers</th>\n",
       "      <th>Impressions</th>\n",
       "      <th>Impressions click-through rate (%)</th>\n",
       "      <th>Average Seconds Viewed</th>\n",
       "      <th>DayOfWeek_Num</th>\n",
       "    </tr>\n",
       "  </thead>\n",
       "  <tbody>\n",
       "    <tr>\n",
       "      <th>1</th>\n",
       "      <td>Pointallism Portrait of Lady Gaga  #art #ladygaga</td>\n",
       "      <td>60.0</td>\n",
       "      <td>144</td>\n",
       "      <td>6</td>\n",
       "      <td>2</td>\n",
       "      <td>239</td>\n",
       "      <td>47.48</td>\n",
       "      <td>2766</td>\n",
       "      <td>2775</td>\n",
       "      <td>19.2306</td>\n",
       "      <td>7</td>\n",
       "      <td>728</td>\n",
       "      <td>4.12</td>\n",
       "      <td>25</td>\n",
       "      <td>5</td>\n",
       "    </tr>\n",
       "    <tr>\n",
       "      <th>2</th>\n",
       "      <td>Day 8 of painting a portrait every day till Ch...</td>\n",
       "      <td>59.0</td>\n",
       "      <td>74</td>\n",
       "      <td>3</td>\n",
       "      <td>0</td>\n",
       "      <td>128</td>\n",
       "      <td>49.84</td>\n",
       "      <td>1248</td>\n",
       "      <td>1248</td>\n",
       "      <td>10.9447</td>\n",
       "      <td>5</td>\n",
       "      <td>440</td>\n",
       "      <td>3.86</td>\n",
       "      <td>31</td>\n",
       "      <td>5</td>\n",
       "    </tr>\n",
       "    <tr>\n",
       "      <th>3</th>\n",
       "      <td>Pointallism Portrait of Benson Boone #art #por...</td>\n",
       "      <td>58.0</td>\n",
       "      <td>62</td>\n",
       "      <td>2</td>\n",
       "      <td>8</td>\n",
       "      <td>247</td>\n",
       "      <td>44.78</td>\n",
       "      <td>997</td>\n",
       "      <td>2070</td>\n",
       "      <td>7.7034</td>\n",
       "      <td>2</td>\n",
       "      <td>330</td>\n",
       "      <td>3.33</td>\n",
       "      <td>26</td>\n",
       "      <td>0</td>\n",
       "    </tr>\n",
       "    <tr>\n",
       "      <th>4</th>\n",
       "      <td>Pointallism Portrait of Billie Eilish #art #bi...</td>\n",
       "      <td>60.0</td>\n",
       "      <td>56</td>\n",
       "      <td>1</td>\n",
       "      <td>0</td>\n",
       "      <td>70</td>\n",
       "      <td>39.61</td>\n",
       "      <td>815</td>\n",
       "      <td>818</td>\n",
       "      <td>6.2381</td>\n",
       "      <td>1</td>\n",
       "      <td>409</td>\n",
       "      <td>1.96</td>\n",
       "      <td>27</td>\n",
       "      <td>1</td>\n",
       "    </tr>\n",
       "    <tr>\n",
       "      <th>5</th>\n",
       "      <td>Pointallism Portrait of Lady Gaga  #art #portrait</td>\n",
       "      <td>56.0</td>\n",
       "      <td>36</td>\n",
       "      <td>2</td>\n",
       "      <td>1</td>\n",
       "      <td>81</td>\n",
       "      <td>39.09</td>\n",
       "      <td>773</td>\n",
       "      <td>779</td>\n",
       "      <td>5.6763</td>\n",
       "      <td>4</td>\n",
       "      <td>319</td>\n",
       "      <td>1.57</td>\n",
       "      <td>26</td>\n",
       "      <td>0</td>\n",
       "    </tr>\n",
       "    <tr>\n",
       "      <th>...</th>\n",
       "      <td>...</td>\n",
       "      <td>...</td>\n",
       "      <td>...</td>\n",
       "      <td>...</td>\n",
       "      <td>...</td>\n",
       "      <td>...</td>\n",
       "      <td>...</td>\n",
       "      <td>...</td>\n",
       "      <td>...</td>\n",
       "      <td>...</td>\n",
       "      <td>...</td>\n",
       "      <td>...</td>\n",
       "      <td>...</td>\n",
       "      <td>...</td>\n",
       "      <td>...</td>\n",
       "    </tr>\n",
       "    <tr>\n",
       "      <th>65</th>\n",
       "      <td>Chappell Roan on the Grammys Red Carpet Painti...</td>\n",
       "      <td>74.0</td>\n",
       "      <td>3</td>\n",
       "      <td>0</td>\n",
       "      <td>0</td>\n",
       "      <td>6</td>\n",
       "      <td>12.52</td>\n",
       "      <td>65</td>\n",
       "      <td>66</td>\n",
       "      <td>0.2255</td>\n",
       "      <td>0</td>\n",
       "      <td>114</td>\n",
       "      <td>1.75</td>\n",
       "      <td>12</td>\n",
       "      <td>1</td>\n",
       "    </tr>\n",
       "    <tr>\n",
       "      <th>66</th>\n",
       "      <td>Painting Challenge Part 2 #paintingchallenge #...</td>\n",
       "      <td>77.0</td>\n",
       "      <td>3</td>\n",
       "      <td>0</td>\n",
       "      <td>0</td>\n",
       "      <td>5</td>\n",
       "      <td>15.20</td>\n",
       "      <td>38</td>\n",
       "      <td>38</td>\n",
       "      <td>0.1914</td>\n",
       "      <td>0</td>\n",
       "      <td>80</td>\n",
       "      <td>0.00</td>\n",
       "      <td>18</td>\n",
       "      <td>2</td>\n",
       "    </tr>\n",
       "    <tr>\n",
       "      <th>68</th>\n",
       "      <td>Bubble Wrap Painting  #artist #asmr</td>\n",
       "      <td>61.0</td>\n",
       "      <td>1</td>\n",
       "      <td>0</td>\n",
       "      <td>0</td>\n",
       "      <td>2</td>\n",
       "      <td>100.00</td>\n",
       "      <td>5</td>\n",
       "      <td>5</td>\n",
       "      <td>0.0246</td>\n",
       "      <td>0</td>\n",
       "      <td>110</td>\n",
       "      <td>3.64</td>\n",
       "      <td>17</td>\n",
       "      <td>5</td>\n",
       "    </tr>\n",
       "    <tr>\n",
       "      <th>69</th>\n",
       "      <td>How I start my paintings over #art #aprilfools</td>\n",
       "      <td>60.0</td>\n",
       "      <td>3</td>\n",
       "      <td>0</td>\n",
       "      <td>0</td>\n",
       "      <td>0</td>\n",
       "      <td>75.00</td>\n",
       "      <td>4</td>\n",
       "      <td>5</td>\n",
       "      <td>0.0212</td>\n",
       "      <td>1</td>\n",
       "      <td>56</td>\n",
       "      <td>5.36</td>\n",
       "      <td>18</td>\n",
       "      <td>1</td>\n",
       "    </tr>\n",
       "    <tr>\n",
       "      <th>70</th>\n",
       "      <td>Pointallism Painting of Lisa #art #portrait</td>\n",
       "      <td>61.0</td>\n",
       "      <td>3</td>\n",
       "      <td>0</td>\n",
       "      <td>0</td>\n",
       "      <td>0</td>\n",
       "      <td>42.86</td>\n",
       "      <td>3</td>\n",
       "      <td>7</td>\n",
       "      <td>0.0207</td>\n",
       "      <td>0</td>\n",
       "      <td>110</td>\n",
       "      <td>1.82</td>\n",
       "      <td>22</td>\n",
       "      <td>2</td>\n",
       "    </tr>\n",
       "  </tbody>\n",
       "</table>\n",
       "<p>68 rows × 15 columns</p>\n",
       "</div>"
      ],
      "text/plain": [
       "                                          Video title  Duration  Likes  \\\n",
       "1   Pointallism Portrait of Lady Gaga  #art #ladygaga      60.0    144   \n",
       "2   Day 8 of painting a portrait every day till Ch...      59.0     74   \n",
       "3   Pointallism Portrait of Benson Boone #art #por...      58.0     62   \n",
       "4   Pointallism Portrait of Billie Eilish #art #bi...      60.0     56   \n",
       "5   Pointallism Portrait of Lady Gaga  #art #portrait      56.0     36   \n",
       "..                                                ...       ...    ...   \n",
       "65  Chappell Roan on the Grammys Red Carpet Painti...      74.0      3   \n",
       "66  Painting Challenge Part 2 #paintingchallenge #...      77.0      3   \n",
       "68                Bubble Wrap Painting  #artist #asmr      61.0      1   \n",
       "69     How I start my paintings over #art #aprilfools      60.0      3   \n",
       "70        Pointallism Painting of Lisa #art #portrait      61.0      3   \n",
       "\n",
       "    Dislikes  Shares  YouTube Premium views  Stayed to watch (%)  \\\n",
       "1          6       2                    239                47.48   \n",
       "2          3       0                    128                49.84   \n",
       "3          2       8                    247                44.78   \n",
       "4          1       0                     70                39.61   \n",
       "5          2       1                     81                39.09   \n",
       "..       ...     ...                    ...                  ...   \n",
       "65         0       0                      6                12.52   \n",
       "66         0       0                      5                15.20   \n",
       "68         0       0                      2               100.00   \n",
       "69         0       0                      0                75.00   \n",
       "70         0       0                      0                42.86   \n",
       "\n",
       "    Engaged views  Views  Watch time (hours)  Subscribers  Impressions  \\\n",
       "1            2766   2775             19.2306            7          728   \n",
       "2            1248   1248             10.9447            5          440   \n",
       "3             997   2070              7.7034            2          330   \n",
       "4             815    818              6.2381            1          409   \n",
       "5             773    779              5.6763            4          319   \n",
       "..            ...    ...                 ...          ...          ...   \n",
       "65             65     66              0.2255            0          114   \n",
       "66             38     38              0.1914            0           80   \n",
       "68              5      5              0.0246            0          110   \n",
       "69              4      5              0.0212            1           56   \n",
       "70              3      7              0.0207            0          110   \n",
       "\n",
       "    Impressions click-through rate (%)  Average Seconds Viewed  DayOfWeek_Num  \n",
       "1                                 4.12                      25              5  \n",
       "2                                 3.86                      31              5  \n",
       "3                                 3.33                      26              0  \n",
       "4                                 1.96                      27              1  \n",
       "5                                 1.57                      26              0  \n",
       "..                                 ...                     ...            ...  \n",
       "65                                1.75                      12              1  \n",
       "66                                0.00                      18              2  \n",
       "68                                3.64                      17              5  \n",
       "69                                5.36                      18              1  \n",
       "70                                1.82                      22              2  \n",
       "\n",
       "[68 rows x 15 columns]"
      ]
     },
     "execution_count": 9,
     "metadata": {},
     "output_type": "execute_result"
    }
   ],
   "source": [
    "df"
   ]
  },
  {
   "cell_type": "markdown",
   "metadata": {},
   "source": [
    "### Creating the Model"
   ]
  },
  {
   "cell_type": "code",
   "execution_count": 10,
   "metadata": {},
   "outputs": [],
   "source": [
    "from sklearn.feature_extraction.text import TfidfVectorizer\n",
    "\n",
    "#vectorize the titles to use as our imput value for our model\n",
    "vectorizer = TfidfVectorizer(max_features=500)\n",
    "X = vectorizer.fit_transform(df[\"Video title\"])"
   ]
  },
  {
   "cell_type": "code",
   "execution_count": 11,
   "metadata": {},
   "outputs": [],
   "source": [
    "#target values\n",
    "y = df[[\n",
    "    'Duration', 'Likes', 'Dislikes', 'Shares',\n",
    "       'YouTube Premium views', 'Stayed to watch (%)', 'Engaged views',\n",
    "       'Views', 'Watch time (hours)', 'Subscribers', 'Impressions',\n",
    "       'Impressions click-through rate (%)', 'Average Seconds Viewed',\n",
    "       'DayOfWeek_Num'\n",
    "]]"
   ]
  },
  {
   "cell_type": "code",
   "execution_count": 12,
   "metadata": {},
   "outputs": [],
   "source": [
    "from sklearn.multioutput import MultiOutputRegressor\n",
    "from sklearn.ensemble import RandomForestRegressor\n",
    "from sklearn.model_selection import train_test_split\n",
    "\n",
    "X_train, X_test, y_train, y_test = train_test_split(X, y, test_size=0.2)\n",
    "\n",
    "model = MultiOutputRegressor(RandomForestRegressor(n_estimators=100))\n",
    "model.fit(X_train, y_train)\n",
    "\n",
    "y_pred = model.predict(X_test)"
   ]
  },
  {
   "cell_type": "code",
   "execution_count": 13,
   "metadata": {},
   "outputs": [
    {
     "data": {
      "text/plain": [
       "{'Duration': 47.597142857142856,\n",
       " 'Likes': 38.64583333333333,\n",
       " 'Dislikes': 2.685,\n",
       " 'Shares': 0.64,\n",
       " 'YouTube Premium views': 48.06,\n",
       " 'Stayed to watch (%)': 33.92959047619048,\n",
       " 'Engaged views': 828.76,\n",
       " 'Views': 694.6080000000001,\n",
       " 'Watch time (hours)': 3.8081216261904784,\n",
       " 'Subscribers': 3.35,\n",
       " 'Impressions': 166.13766666666666,\n",
       " 'Impressions click-through rate (%)': 2.5309000000000013,\n",
       " 'Average Seconds Viewed': 17.29666666666667,\n",
       " 'DayOfWeek_Num': 2.1069999999999998}"
      ]
     },
     "execution_count": 13,
     "metadata": {},
     "output_type": "execute_result"
    }
   ],
   "source": [
    "#funcation \n",
    "def predict_metrics(title):\n",
    "    x = vectorizer.transform([title])\n",
    "    prediction = model.predict(x)\n",
    "    return dict(zip(y.columns, prediction[0]))\n",
    "\n",
    "predict_metrics(\"Lady Gaga\")"
   ]
  },
  {
   "cell_type": "markdown",
   "metadata": {},
   "source": [
    "### Fine Tuning the Model"
   ]
  },
  {
   "cell_type": "code",
   "execution_count": 14,
   "metadata": {},
   "outputs": [
    {
     "data": {
      "text/html": [
       "<style>#sk-container-id-1 {color: black;}#sk-container-id-1 pre{padding: 0;}#sk-container-id-1 div.sk-toggleable {background-color: white;}#sk-container-id-1 label.sk-toggleable__label {cursor: pointer;display: block;width: 100%;margin-bottom: 0;padding: 0.3em;box-sizing: border-box;text-align: center;}#sk-container-id-1 label.sk-toggleable__label-arrow:before {content: \"▸\";float: left;margin-right: 0.25em;color: #696969;}#sk-container-id-1 label.sk-toggleable__label-arrow:hover:before {color: black;}#sk-container-id-1 div.sk-estimator:hover label.sk-toggleable__label-arrow:before {color: black;}#sk-container-id-1 div.sk-toggleable__content {max-height: 0;max-width: 0;overflow: hidden;text-align: left;background-color: #f0f8ff;}#sk-container-id-1 div.sk-toggleable__content pre {margin: 0.2em;color: black;border-radius: 0.25em;background-color: #f0f8ff;}#sk-container-id-1 input.sk-toggleable__control:checked~div.sk-toggleable__content {max-height: 200px;max-width: 100%;overflow: auto;}#sk-container-id-1 input.sk-toggleable__control:checked~label.sk-toggleable__label-arrow:before {content: \"▾\";}#sk-container-id-1 div.sk-estimator input.sk-toggleable__control:checked~label.sk-toggleable__label {background-color: #d4ebff;}#sk-container-id-1 div.sk-label input.sk-toggleable__control:checked~label.sk-toggleable__label {background-color: #d4ebff;}#sk-container-id-1 input.sk-hidden--visually {border: 0;clip: rect(1px 1px 1px 1px);clip: rect(1px, 1px, 1px, 1px);height: 1px;margin: -1px;overflow: hidden;padding: 0;position: absolute;width: 1px;}#sk-container-id-1 div.sk-estimator {font-family: monospace;background-color: #f0f8ff;border: 1px dotted black;border-radius: 0.25em;box-sizing: border-box;margin-bottom: 0.5em;}#sk-container-id-1 div.sk-estimator:hover {background-color: #d4ebff;}#sk-container-id-1 div.sk-parallel-item::after {content: \"\";width: 100%;border-bottom: 1px solid gray;flex-grow: 1;}#sk-container-id-1 div.sk-label:hover label.sk-toggleable__label {background-color: #d4ebff;}#sk-container-id-1 div.sk-serial::before {content: \"\";position: absolute;border-left: 1px solid gray;box-sizing: border-box;top: 0;bottom: 0;left: 50%;z-index: 0;}#sk-container-id-1 div.sk-serial {display: flex;flex-direction: column;align-items: center;background-color: white;padding-right: 0.2em;padding-left: 0.2em;position: relative;}#sk-container-id-1 div.sk-item {position: relative;z-index: 1;}#sk-container-id-1 div.sk-parallel {display: flex;align-items: stretch;justify-content: center;background-color: white;position: relative;}#sk-container-id-1 div.sk-item::before, #sk-container-id-1 div.sk-parallel-item::before {content: \"\";position: absolute;border-left: 1px solid gray;box-sizing: border-box;top: 0;bottom: 0;left: 50%;z-index: -1;}#sk-container-id-1 div.sk-parallel-item {display: flex;flex-direction: column;z-index: 1;position: relative;background-color: white;}#sk-container-id-1 div.sk-parallel-item:first-child::after {align-self: flex-end;width: 50%;}#sk-container-id-1 div.sk-parallel-item:last-child::after {align-self: flex-start;width: 50%;}#sk-container-id-1 div.sk-parallel-item:only-child::after {width: 0;}#sk-container-id-1 div.sk-dashed-wrapped {border: 1px dashed gray;margin: 0 0.4em 0.5em 0.4em;box-sizing: border-box;padding-bottom: 0.4em;background-color: white;}#sk-container-id-1 div.sk-label label {font-family: monospace;font-weight: bold;display: inline-block;line-height: 1.2em;}#sk-container-id-1 div.sk-label-container {text-align: center;}#sk-container-id-1 div.sk-container {/* jupyter's `normalize.less` sets `[hidden] { display: none; }` but bootstrap.min.css set `[hidden] { display: none !important; }` so we also need the `!important` here to be able to override the default hidden behavior on the sphinx rendered scikit-learn.org. See: https://github.com/scikit-learn/scikit-learn/issues/21755 */display: inline-block !important;position: relative;}#sk-container-id-1 div.sk-text-repr-fallback {display: none;}</style><div id=\"sk-container-id-1\" class=\"sk-top-container\"><div class=\"sk-text-repr-fallback\"><pre>GridSearchCV(cv=5,\n",
       "             estimator=MultiOutputRegressor(estimator=RandomForestRegressor()),\n",
       "             param_grid={&#x27;estimator__max_depth&#x27;: [10, 15, 20, 25, 30, 35, None],\n",
       "                         &#x27;estimator__n_estimators&#x27;: [10, 20, 50, 75, 100, 150,\n",
       "                                                     200],\n",
       "                         &#x27;n_jobs&#x27;: [-1]})</pre><b>In a Jupyter environment, please rerun this cell to show the HTML representation or trust the notebook. <br />On GitHub, the HTML representation is unable to render, please try loading this page with nbviewer.org.</b></div><div class=\"sk-container\" hidden><div class=\"sk-item sk-dashed-wrapped\"><div class=\"sk-label-container\"><div class=\"sk-label sk-toggleable\"><input class=\"sk-toggleable__control sk-hidden--visually\" id=\"sk-estimator-id-1\" type=\"checkbox\" ><label for=\"sk-estimator-id-1\" class=\"sk-toggleable__label sk-toggleable__label-arrow\">GridSearchCV</label><div class=\"sk-toggleable__content\"><pre>GridSearchCV(cv=5,\n",
       "             estimator=MultiOutputRegressor(estimator=RandomForestRegressor()),\n",
       "             param_grid={&#x27;estimator__max_depth&#x27;: [10, 15, 20, 25, 30, 35, None],\n",
       "                         &#x27;estimator__n_estimators&#x27;: [10, 20, 50, 75, 100, 150,\n",
       "                                                     200],\n",
       "                         &#x27;n_jobs&#x27;: [-1]})</pre></div></div></div><div class=\"sk-parallel\"><div class=\"sk-parallel-item\"><div class=\"sk-item\"><div class=\"sk-label-container\"><div class=\"sk-label sk-toggleable\"><input class=\"sk-toggleable__control sk-hidden--visually\" id=\"sk-estimator-id-2\" type=\"checkbox\" ><label for=\"sk-estimator-id-2\" class=\"sk-toggleable__label sk-toggleable__label-arrow\">estimator: MultiOutputRegressor</label><div class=\"sk-toggleable__content\"><pre>MultiOutputRegressor(estimator=RandomForestRegressor())</pre></div></div></div><div class=\"sk-serial\"><div class=\"sk-item sk-dashed-wrapped\"><div class=\"sk-parallel\"><div class=\"sk-parallel-item\"><div class=\"sk-item\"><div class=\"sk-label-container\"><div class=\"sk-label sk-toggleable\"><input class=\"sk-toggleable__control sk-hidden--visually\" id=\"sk-estimator-id-3\" type=\"checkbox\" ><label for=\"sk-estimator-id-3\" class=\"sk-toggleable__label sk-toggleable__label-arrow\">estimator: RandomForestRegressor</label><div class=\"sk-toggleable__content\"><pre>RandomForestRegressor()</pre></div></div></div><div class=\"sk-serial\"><div class=\"sk-item\"><div class=\"sk-estimator sk-toggleable\"><input class=\"sk-toggleable__control sk-hidden--visually\" id=\"sk-estimator-id-4\" type=\"checkbox\" ><label for=\"sk-estimator-id-4\" class=\"sk-toggleable__label sk-toggleable__label-arrow\">RandomForestRegressor</label><div class=\"sk-toggleable__content\"><pre>RandomForestRegressor()</pre></div></div></div></div></div></div></div></div></div></div></div></div></div></div></div>"
      ],
      "text/plain": [
       "GridSearchCV(cv=5,\n",
       "             estimator=MultiOutputRegressor(estimator=RandomForestRegressor()),\n",
       "             param_grid={'estimator__max_depth': [10, 15, 20, 25, 30, 35, None],\n",
       "                         'estimator__n_estimators': [10, 20, 50, 75, 100, 150,\n",
       "                                                     200],\n",
       "                         'n_jobs': [-1]})"
      ]
     },
     "execution_count": 14,
     "metadata": {},
     "output_type": "execute_result"
    }
   ],
   "source": [
    "from sklearn.model_selection import GridSearchCV\n",
    "\n",
    "Define the parameter grid for the underlying RandomForestRegressor\n",
    "param_grid = {\n",
    "    'estimator__n_estimators': [10, 20, 50, 75, 100, 150, 200],  # for RandomForestRegressor's n_estimators\n",
    "    'estimator__max_depth': [10, 15, 20, 25, 30, 35, None],     # for RandomForestRegressor's max_depth\n",
    "    'n_jobs': [-1] # For MultiOutputRegressor's n_jobs to use all available cores\n",
    "}\n",
    "\n",
    "Create the GridSearchCV object\n",
    "grid_search = GridSearchCV(estimator=model, param_grid=param_grid, cv=5)\n",
    "\n",
    "Fit the model\n",
    "grid_search.fit(X_train, y_train) #  Replace with your training data"
   ]
  },
  {
   "cell_type": "code",
   "execution_count": 15,
   "metadata": {},
   "outputs": [
    {
     "name": "stdout",
     "output_type": "stream",
     "text": [
      "Best parameters: {'estimator__max_depth': 20, 'estimator__n_estimators': 50, 'n_jobs': -1}\n",
      "Best negative mean squared error: -0.5716103978524455\n"
     ]
    }
   ],
   "source": [
    "print(\"Best parameters:\", grid_search.best_params_)\n",
    "print(\"Best negative mean squared error:\", grid_search.best_score_)"
   ]
  },
  {
   "cell_type": "code",
   "execution_count": 16,
   "metadata": {},
   "outputs": [
    {
     "data": {
      "text/plain": [
       "{'Duration': 47.84207142857144,\n",
       " 'Likes': 33.160833333333336,\n",
       " 'Dislikes': 2.7201666666666666,\n",
       " 'Shares': 0.623,\n",
       " 'YouTube Premium views': 43.53869047619047,\n",
       " 'Stayed to watch (%)': 32.59073333333334,\n",
       " 'Engaged views': 844.3991666666666,\n",
       " 'Views': 688.7257777777778,\n",
       " 'Watch time (hours)': 5.20941594761905,\n",
       " 'Subscribers': 3.51,\n",
       " 'Impressions': 149.54673809523808,\n",
       " 'Impressions click-through rate (%)': 2.506300000000002,\n",
       " 'Average Seconds Viewed': 17.690833333333334,\n",
       " 'DayOfWeek_Num': 1.970625}"
      ]
     },
     "execution_count": 16,
     "metadata": {},
     "output_type": "execute_result"
    }
   ],
   "source": [
    "model2 = MultiOutputRegressor(RandomForestRegressor(n_estimators=200, max_depth=30))\n",
    "model2.fit(X_train, y_train)\n",
    "\n",
    "y_pred2 = model2.predict(X_test)\n",
    "\n",
    "def predict_metrics2(title):\n",
    "    x = vectorizer.transform([title])\n",
    "    prediction = model2.predict(x)\n",
    "    return dict(zip(y.columns, prediction[0]))\n",
    "\n",
    "predict_metrics2(\"Lady Gaga\")"
   ]
  },
  {
   "cell_type": "code",
   "execution_count": 17,
   "metadata": {},
   "outputs": [
    {
     "name": "stdout",
     "output_type": "stream",
     "text": [
      "Mean Squared Error (MSE): 44360.6726\n",
      "R-squared (R2) Score: -0.8609\n"
     ]
    }
   ],
   "source": [
    "from sklearn.metrics import mean_squared_error, r2_score\n",
    "\n",
    "mse = mean_squared_error(y_test, y_pred)\n",
    "r2 = r2_score(y_test, y_pred)\n",
    "\n",
    "print(f\"Mean Squared Error (MSE): {mse:.4f}\")\n",
    "print(f\"R-squared (R2) Score: {r2:.4f}\")"
   ]
  },
  {
   "cell_type": "code",
   "execution_count": 18,
   "metadata": {},
   "outputs": [
    {
     "name": "stdout",
     "output_type": "stream",
     "text": [
      "Mean Squared Error (MSE): 44518.5438\n",
      "R-squared (R2) Score: -0.8342\n"
     ]
    }
   ],
   "source": [
    "mse = mean_squared_error(y_test, y_pred2)\n",
    "r2 = r2_score(y_test, y_pred2)\n",
    "\n",
    "print(f\"Mean Squared Error (MSE): {mse:.4f}\")\n",
    "print(f\"R-squared (R2) Score: {r2:.4f}\")"
   ]
  },
  {
   "cell_type": "markdown",
   "metadata": {},
   "source": [
    "The accuracy is not optimal for either version of the model, so the next step is to improve performance by adjusting the vectorizer."
   ]
  },
  {
   "cell_type": "code",
   "execution_count": 22,
   "metadata": {},
   "outputs": [],
   "source": [
    "vectorizer = TfidfVectorizer(max_features=1000)\n",
    "\n",
    "X = vectorizer.fit_transform(df[\"Video title\"])\n",
    "y = df[[\n",
    "    'Duration', 'Likes', 'Dislikes', 'Shares',\n",
    "       'YouTube Premium views', 'Stayed to watch (%)', 'Engaged views',\n",
    "       'Views', 'Watch time (hours)', 'Subscribers', 'Impressions',\n",
    "       'Impressions click-through rate (%)', 'Average Seconds Viewed',\n",
    "       'DayOfWeek_Num'\n",
    "]]"
   ]
  },
  {
   "cell_type": "code",
   "execution_count": 23,
   "metadata": {},
   "outputs": [
    {
     "data": {
      "text/plain": [
       "{'Duration': 47.84207142857144,\n",
       " 'Likes': 33.160833333333336,\n",
       " 'Dislikes': 2.7201666666666666,\n",
       " 'Shares': 0.623,\n",
       " 'YouTube Premium views': 43.53869047619047,\n",
       " 'Stayed to watch (%)': 32.59073333333334,\n",
       " 'Engaged views': 844.3991666666666,\n",
       " 'Views': 688.7257777777778,\n",
       " 'Watch time (hours)': 5.20941594761905,\n",
       " 'Subscribers': 3.51,\n",
       " 'Impressions': 149.54673809523808,\n",
       " 'Impressions click-through rate (%)': 2.506300000000002,\n",
       " 'Average Seconds Viewed': 17.690833333333334,\n",
       " 'DayOfWeek_Num': 1.970625}"
      ]
     },
     "execution_count": 23,
     "metadata": {},
     "output_type": "execute_result"
    }
   ],
   "source": [
    "model3 = MultiOutputRegressor(RandomForestRegressor(n_estimators=200, max_depth=30))\n",
    "model3.fit(X_train, y_train)\n",
    "\n",
    "y_pred3 = model2.predict(X_test)\n",
    "\n",
    "def predict_metrics2(title):\n",
    "    x = vectorizer.transform([title])\n",
    "    prediction = model2.predict(x)\n",
    "    return dict(zip(y.columns, prediction[0]))\n",
    "\n",
    "predict_metrics2(\"Lady Gaga\")"
   ]
  },
  {
   "cell_type": "code",
   "execution_count": 24,
   "metadata": {},
   "outputs": [
    {
     "name": "stdout",
     "output_type": "stream",
     "text": [
      "Mean Squared Error (MSE): 44518.5438\n",
      "R-squared (R2) Score: -0.8342\n"
     ]
    }
   ],
   "source": [
    "mse = mean_squared_error(y_test, y_pred3)\n",
    "r2 = r2_score(y_test, y_pred3)\n",
    "\n",
    "print(f\"Mean Squared Error (MSE): {mse:.4f}\")\n",
    "print(f\"R-squared (R2) Score: {r2:.4f}\")"
   ]
  },
  {
   "cell_type": "markdown",
   "metadata": {},
   "source": [
    "## Simple Chatbot"
   ]
  },
  {
   "cell_type": "code",
   "execution_count": 29,
   "metadata": {},
   "outputs": [
    {
     "name": "stdout",
     "output_type": "stream",
     "text": [
      "You: Lady Gaga\n",
      "Bot: {'Duration': 47.84207142857144, 'Likes': 33.160833333333336, 'Dislikes': 2.7201666666666666, 'Shares': 0.623, 'YouTube Premium views': 43.53869047619047, 'Stayed to watch (%)': 32.59073333333334, 'Engaged views': 844.3991666666666, 'Views': 688.7257777777778, 'Watch time (hours)': 5.20941594761905, 'Subscribers': 3.51, 'Impressions': 149.54673809523808, 'Impressions click-through rate (%)': 2.506300000000002, 'Average Seconds Viewed': 17.690833333333334, 'DayOfWeek_Num': 1.970625}\n",
      "You: #art\n",
      "Bot: {'Duration': 52.78672619047618, 'Likes': 15.334166666666668, 'Dislikes': 1.5717499999999998, 'Shares': 0.28125, 'YouTube Premium views': 78.68912499999999, 'Stayed to watch (%)': 35.68410813492064, 'Engaged views': 535.1745476190476, 'Views': 882.4942777777777, 'Watch time (hours)': 3.107991453571426, 'Subscribers': 0.24333333333333332, 'Impressions': 162.4800119047619, 'Impressions click-through rate (%)': 2.001091666666667, 'Average Seconds Viewed': 20.308611111111112, 'DayOfWeek_Num': 2.7435416666666668}\n",
      "You: Come oil paint with me Part 7 #oil #art\n",
      "Bot: {'Duration': 44.25181547619048, 'Likes': 14.100956349206347, 'Dislikes': 1.4882579365079365, 'Shares': 0.5014583333333335, 'YouTube Premium views': 102.67803571428576, 'Stayed to watch (%)': 33.558963253968265, 'Engaged views': 445.1595683621934, 'Views': 1034.742972222222, 'Watch time (hours)': 2.662363025595237, 'Subscribers': 0.35298809523809527, 'Impressions': 61.89047222222222, 'Impressions click-through rate (%)': 7.870736617965366, 'Average Seconds Viewed': 17.883630952380944, 'DayOfWeek_Num': 3.4153253968253963}\n",
      "You: exit\n"
     ]
    }
   ],
   "source": [
    "#the chatbot takes the user_input (the video title) and run it through the model \n",
    "#The predicted results will be returned until the user enters exit\n",
    "\n",
    "def simple_chatbot(user_input):\n",
    "    user_input = user_input.lower()\n",
    "    return predict_metrics2(user_input)\n",
    "\n",
    "while True:\n",
    "    user_message = input(\"You: \")\n",
    "    if user_message.lower() == \"exit\":\n",
    "        break\n",
    "    bot_response = simple_chatbot(user_message)\n",
    "    print(f\"Bot: {bot_response}\")"
   ]
  }
 ],
 "metadata": {
  "kernelspec": {
   "display_name": "Python 3",
   "language": "python",
   "name": "python3"
  },
  "language_info": {
   "codemirror_mode": {
    "name": "ipython",
    "version": 3
   },
   "file_extension": ".py",
   "mimetype": "text/x-python",
   "name": "python",
   "nbconvert_exporter": "python",
   "pygments_lexer": "ipython3",
   "version": "3.8.5"
  }
 },
 "nbformat": 4,
 "nbformat_minor": 4
}
